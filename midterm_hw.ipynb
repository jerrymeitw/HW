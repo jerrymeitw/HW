{
  "cells": [
    {
      "cell_type": "code",
      "source": [],
      "metadata": {
        "id": "vD0Xxl-8Nn1J"
      },
      "id": "vD0Xxl-8Nn1J",
      "execution_count": null,
      "outputs": []
    },
    {
      "cell_type": "code",
      "source": [
        "!pip install tensorflow_addons"
      ],
      "metadata": {
        "id": "M1fD17UvNjGP",
        "colab": {
          "base_uri": "https://localhost:8080/"
        },
        "outputId": "2758f901-33d5-47a0-ad6c-fb20f9c3b239"
      },
      "execution_count": 3,
      "outputs": [
        {
          "output_type": "stream",
          "name": "stdout",
          "text": [
            "Looking in indexes: https://pypi.org/simple, https://us-python.pkg.dev/colab-wheels/public/simple/\n",
            "Collecting tensorflow_addons\n",
            "  Downloading tensorflow_addons-0.18.0-cp37-cp37m-manylinux_2_17_x86_64.manylinux2014_x86_64.whl (1.1 MB)\n",
            "\u001b[K     |████████████████████████████████| 1.1 MB 5.2 MB/s \n",
            "\u001b[?25hRequirement already satisfied: packaging in /usr/local/lib/python3.7/dist-packages (from tensorflow_addons) (21.3)\n",
            "Requirement already satisfied: typeguard>=2.7 in /usr/local/lib/python3.7/dist-packages (from tensorflow_addons) (2.7.1)\n",
            "Requirement already satisfied: pyparsing!=3.0.5,>=2.0.2 in /usr/local/lib/python3.7/dist-packages (from packaging->tensorflow_addons) (3.0.9)\n",
            "Installing collected packages: tensorflow-addons\n",
            "Successfully installed tensorflow-addons-0.18.0\n"
          ]
        }
      ],
      "id": "M1fD17UvNjGP"
    },
    {
      "cell_type": "code",
      "execution_count": 4,
      "id": "6407bd63",
      "metadata": {
        "colab": {
          "base_uri": "https://localhost:8080/"
        },
        "id": "6407bd63",
        "outputId": "b63cc33e-27cb-46aa-a016-87388137ff2c"
      },
      "outputs": [
        {
          "output_type": "stream",
          "name": "stdout",
          "text": [
            "Downloading data from https://www.cs.toronto.edu/~kriz/cifar-10-python.tar.gz\n",
            "170498071/170498071 [==============================] - 3s 0us/step\n",
            "Model: \"model\"\n",
            "_________________________________________________________________\n",
            " Layer (type)                Output Shape              Param #   \n",
            "=================================================================\n",
            " input_1 (InputLayer)        [(None, None, None, 3)]   0         \n",
            "                                                                 \n",
            " block1_conv1 (Conv2D)       (None, None, None, 64)    1792      \n",
            "                                                                 \n",
            " block1_conv2 (Conv2D)       (None, None, None, 64)    36928     \n",
            "                                                                 \n",
            " batch_normalization (BatchN  (None, None, None, 64)   256       \n",
            " ormalization)                                                   \n",
            "                                                                 \n",
            " block1_maxpool (MaxPooling2  (None, None, None, 64)   0         \n",
            " D)                                                              \n",
            "                                                                 \n",
            " block2_conv1 (Conv2D)       (None, None, None, 128)   73856     \n",
            "                                                                 \n",
            " block2_conv2 (Conv2D)       (None, None, None, 128)   147584    \n",
            "                                                                 \n",
            " batch_normalization_1 (Batc  (None, None, None, 128)  512       \n",
            " hNormalization)                                                 \n",
            "                                                                 \n",
            " spatial_pyramid_pooling2d (  (None, 35, 128)          0         \n",
            " SpatialPyramidPooling2D)                                        \n",
            "                                                                 \n",
            " flatten (Flatten)           (None, 4480)              0         \n",
            "                                                                 \n",
            " fc1 (Dense)                 (None, 1024)              4588544   \n",
            "                                                                 \n",
            " predictions (Dense)         (None, 10)                10250     \n",
            "                                                                 \n",
            "=================================================================\n",
            "Total params: 4,859,722\n",
            "Trainable params: 4,859,338\n",
            "Non-trainable params: 384\n",
            "_________________________________________________________________\n"
          ]
        }
      ],
      "source": [
        "import numpy as np\n",
        "import tensorflow as tf\n",
        "import tensorflow_addons as tfa\n",
        "from tensorflow.keras.layers import Conv2D, MaxPool2D, BatchNormalization, Flatten, Dense, Activation, Dropout, Input\n",
        "from keras.models import Model\n",
        "from tensorflow_addons.layers import SpatialPyramidPooling2D\n",
        "from sklearn.model_selection import KFold\n",
        "from sklearn.model_selection import train_test_split\n",
        "\n",
        "\n",
        "\n",
        "from keras.datasets import cifar10\n",
        "from keras.utils import np_utils\n",
        "import matplotlib.pyplot as plt\n",
        "\n",
        "(x_train,y_train),(x_test,y_test)=cifar10.load_data()\n",
        "x_train = x_train / 255.\n",
        "x_test = x_test / 255.\n",
        "y_train = np_utils.to_categorical(y_train)\n",
        "y_test = np_utils.to_categorical(y_test)\n",
        "\n",
        "\n",
        "\n",
        "# SPP-net\n",
        "input_layer = Input((None, None, 3))\n",
        "x = input_layer\n",
        "\n",
        "x = Conv2D(64, (3, 3), activation='relu', padding='same', name='block1_conv1')(x)\n",
        "x = Conv2D(64, (3, 3), activation='relu', padding='same', name='block1_conv2')(x)\n",
        "x = BatchNormalization()(x)\n",
        "x = MaxPool2D((2, 2), strides=(2, 2), padding='same', name='block1_maxpool')(x)\n",
        "\n",
        "x = Conv2D(128, (3, 3), activation='relu', padding='same', name='block2_conv1')(x)\n",
        "x = Conv2D(128, (3, 3), activation='relu', padding='same', name='block2_conv2')(x)\n",
        "x = BatchNormalization()(x)\n",
        "\n",
        "x = SpatialPyramidPooling2D([1, 3, 5])(x)\n",
        "\n",
        "x = Flatten(name='flatten')(x)\n",
        "\n",
        "x = Dense(units=1024, activation='relu', name='fc1')(x)\n",
        "x = Dense(units=10, activation='softmax', name='predictions')(x)\n",
        "\n",
        "SPP_net = Model(inputs=input_layer, outputs=x)\n",
        "SPP_net.compile(loss='categorical_crossentropy', metrics=['acc'])\n",
        "\n",
        "SPP_net.summary()"
      ]
    },
    {
      "cell_type": "code",
      "execution_count": 5,
      "id": "222e6ee1",
      "metadata": {
        "colab": {
          "base_uri": "https://localhost:8080/"
        },
        "id": "222e6ee1",
        "outputId": "5ec6ea8e-c402-4f23-d4a1-fdd3a898ea61"
      },
      "outputs": [
        {
          "output_type": "stream",
          "name": "stdout",
          "text": [
            "Epoch: 1\n",
            "313/313 [==============================] - 785s 3s/step - loss: 1.3396 - acc: 0.5615 - val_loss: 5.1045 - val_acc: 0.1699\n",
            "Epoch: 2\n",
            "313/313 [==============================] - 774s 2s/step - loss: 0.7086 - acc: 0.7569 - val_loss: 1.4031 - val_acc: 0.5969\n",
            "Epoch: 3\n",
            "313/313 [==============================] - 776s 2s/step - loss: 0.5011 - acc: 0.8305 - val_loss: 0.8735 - val_acc: 0.7439\n",
            "Epoch: 4\n",
            "313/313 [==============================] - 762s 2s/step - loss: 0.3388 - acc: 0.8856 - val_loss: 0.7603 - val_acc: 0.7565\n",
            "Epoch: 5\n",
            "313/313 [==============================] - 765s 2s/step - loss: 0.2244 - acc: 0.9244 - val_loss: 0.8328 - val_acc: 0.7657\n",
            "313/313 [==============================] - 47s 149ms/step\n",
            "SPP_net: 0.6701\n"
          ]
        }
      ],
      "source": [
        "def model_train(model, x_train, y_train, batch_size, k, shuffle, epochs):\n",
        "    # kerasで作成したモデルをk分割交差検証を使ってトレーニングする関数\n",
        "    kf = KFold(n_splits=k, shuffle=shuffle)\n",
        "\n",
        "    epoch = 0\n",
        "    loss_list = []\n",
        "    val_loss_list = []\n",
        "    acc_list = []\n",
        "    val_acc_list = []\n",
        "\n",
        "    for _ in range(int(epochs/k)):\n",
        "        ep_loss, ep_val_loss, ep_acc, ap_val_acc = 0, 0, 0, 0  # 1エポックごとの各値を保持する変数を初期化\n",
        "        for train_index, val_index in kf.split(x_train, y_train):\n",
        "            epoch += 1\n",
        "            print(f\"Epoch: {epoch}\")\n",
        "            history=model.fit(x_train[train_index], y_train[train_index], \n",
        "                              batch_size=batch_size, \n",
        "                              validation_data=(x_train[val_index], y_train[val_index]))\n",
        "\n",
        "            loss_list.append(history.history['loss'])\n",
        "            val_loss_list.append(history.history['val_loss'])\n",
        "            acc_list.append(history.history['acc'])\n",
        "            val_acc_list.append(history.history['val_acc'])\n",
        "\n",
        "    return [loss_list, val_loss_list, acc_list, val_acc_list]\n",
        "\n",
        "def model_test(model, x_test, y_test):\n",
        "    test_acc = np.mean(np.argmax(y_test, axis=1) == np.argmax(model.predict(x_test), axis=1))\n",
        "    return test_acc\n",
        "    \n",
        "    \n",
        "    \n",
        "    \n",
        "    # training\n",
        "spp_history = model_train(model=SPP_net, x_train=x_train, y_train=y_train, batch_size=128, k=5, shuffle=True, epochs=5)\n",
        "\n",
        "\n",
        "\n",
        "print(f\"SPP_net: {model_test(SPP_net, x_test, y_test)}\")"
      ]
    },
    {
      "cell_type": "code",
      "execution_count": 6,
      "id": "ecd39cb5",
      "metadata": {
        "scrolled": true,
        "colab": {
          "base_uri": "https://localhost:8080/",
          "height": 54
        },
        "id": "ecd39cb5",
        "outputId": "01ed17f6-6968-4c9b-efe7-0286810fe06a"
      },
      "outputs": [
        {
          "output_type": "stream",
          "name": "stdout",
          "text": [
            "1/1 [==============================] - 11s 11s/step\n"
          ]
        },
        {
          "output_type": "execute_result",
          "data": {
            "text/plain": [
              "'cat (貓)'"
            ],
            "application/vnd.google.colaboratory.intrinsic+json": {
              "type": "string"
            }
          },
          "metadata": {},
          "execution_count": 6
        }
      ],
      "source": [
        "import io\n",
        "import requests\n",
        "import numpy as np\n",
        "from PIL import Image\n",
        "from io import BytesIO\n",
        "\n",
        "car_url = \"https://agirobots.com/wp/wp-content/uploads/2021/05/car-604019_1920.jpg\"\n",
        "img = np.array(Image.open(io.BytesIO(requests.get(car_url).content)))\n",
        "img = img[np.newaxis]\n",
        "\n",
        "cifar10_class_name = [\"airplane (飛機)\", \n",
        "                      \"automobile (汽車)\", \n",
        "                      \"bird (鳥)\", \n",
        "                      \"cat (貓)\", \n",
        "                      \"deer (鹿)\", \n",
        "                      \"dog (狗)\", \n",
        "                      \"frog (青蛙)\", \n",
        "                      \"horse (馬)\", \n",
        "                      \"ship (船)\", \n",
        "                      \"truck (卡車)\"]\n",
        "\n",
        "cifar10_class_name[np.argmax(SPP_net.predict(img))]"
      ]
    },
    {
      "cell_type": "code",
      "execution_count": null,
      "id": "f11e4703",
      "metadata": {
        "id": "f11e4703"
      },
      "outputs": [],
      "source": []
    }
  ],
  "metadata": {
    "kernelspec": {
      "display_name": "Python 3 (ipykernel)",
      "language": "python",
      "name": "python3"
    },
    "language_info": {
      "codemirror_mode": {
        "name": "ipython",
        "version": 3
      },
      "file_extension": ".py",
      "mimetype": "text/x-python",
      "name": "python",
      "nbconvert_exporter": "python",
      "pygments_lexer": "ipython3",
      "version": "3.9.7"
    },
    "colab": {
      "provenance": [],
      "collapsed_sections": []
    }
  },
  "nbformat": 4,
  "nbformat_minor": 5
}